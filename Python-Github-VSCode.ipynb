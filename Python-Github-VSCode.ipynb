{
 "cells": [
  {
   "cell_type": "markdown",
   "metadata": {},
   "source": [
    "## This workshop aims to introduce Python, GitHub, and VSCode to students with no prior experience\n",
    "\n",
    "### Agenda\n",
    "#### 1 . General overview of Python, GitHub, and VSCode\n",
    "\n",
    "##### <font color = pink> A. What is Python? </font>\n",
    "\n",
    "I. What can it be used for?\n",
    "\n",
    "II. Getting Python on your computer\n",
    "##### <font color = green>B. What is GitHub? </font>\n",
    "\n",
    "I. What do people use it for?\n",
    "\n",
    "II. Downloading GitHub\n",
    "\n",
    "##### <font color = lightblue> C. What is VSCode? </font>\n",
    "\n",
    "I. Downloading VSCode\n",
    "\n",
    "#### 2 . Have a slice of Py\n",
    "\n",
    "##### <font color = pink> A. Statements</font>\n",
    "\n",
    "##### <font color = pink> B. Data types</font>\n",
    "\n",
    "##### <font color = pink> C. Loops </font>\n",
    "\n",
    "##### <font color = pink> D. Functions</font>\n",
    "\n"
   ]
  },
  {
   "cell_type": "markdown",
   "metadata": {},
   "source": []
  },
  {
   "cell_type": "markdown",
   "metadata": {},
   "source": [
    "-GitHub is a resource for collaborating on code and is used for version control on software builds. It is also a popular platform to share and contribute to open-source software, through repositories.\n",
    "\n",
    "-Repositories are 'projects' that contain files and folders, repositories also track changes to files and folders through version control.\n",
    "\n",
    "-An essential part of collaborating on code involves branches, which are like 'clones' of your repository. Branches allow you to work on specific features of the project, without affecting others. This allows you to keep your code separate from your collaborators, until you decide to commit.\n",
    "\n",
    "-A commit is "
   ]
  }
 ],
 "metadata": {
  "language_info": {
   "name": "python"
  }
 },
 "nbformat": 4,
 "nbformat_minor": 2
}
